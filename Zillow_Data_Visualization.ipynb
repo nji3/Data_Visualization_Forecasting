{
  "nbformat": 4,
  "nbformat_minor": 0,
  "metadata": {
    "colab": {
      "name": "Zillow_Data_Visualization.ipynb",
      "version": "0.3.2",
      "provenance": [],
      "collapsed_sections": []
    },
    "kernelspec": {
      "name": "python3",
      "display_name": "Python 3"
    }
  },
  "cells": [
    {
      "metadata": {
        "id": "iAhH6LUy6Z66",
        "colab_type": "text"
      },
      "cell_type": "markdown",
      "source": [
        ""
      ]
    },
    {
      "metadata": {
        "id": "bhlj3lO26a24",
        "colab_type": "code",
        "colab": {
          "base_uri": "https://localhost:8080/",
          "height": 54
        },
        "outputId": "123fde17-1c41-43d7-8116-18d962b1ab08"
      },
      "cell_type": "code",
      "source": [
        "# Load the Drive helper and mount\n",
        "from google.colab import drive\n",
        "\n",
        "# This will prompt for authorization.\n",
        "drive.mount('/content/drive')"
      ],
      "execution_count": 63,
      "outputs": [
        {
          "output_type": "stream",
          "text": [
            "Drive already mounted at /content/drive; to attempt to forcibly remount, call drive.mount(\"/content/drive\", force_remount=True).\n"
          ],
          "name": "stdout"
        }
      ]
    },
    {
      "metadata": {
        "id": "CLFWT8Kc6b0Z",
        "colab_type": "code",
        "colab": {}
      },
      "cell_type": "code",
      "source": [
        "pwd = '/content/drive/My Drive/Colab Notebooks/data visualization/data/Zillow_90001_to_90099.csv'\n",
        "base = '/content/drive/My Drive/Colab Notebooks/data visualization/data/'"
      ],
      "execution_count": 0,
      "outputs": []
    },
    {
      "metadata": {
        "id": "mqdQWYBq602r",
        "colab_type": "code",
        "colab": {
          "base_uri": "https://localhost:8080/",
          "height": 173
        },
        "outputId": "122f120d-5dfb-439b-a989-1563daa45c7e"
      },
      "cell_type": "code",
      "source": [
        "!pip3 install python-googlegeocoder\n",
        "!pip3 install gmplot"
      ],
      "execution_count": 65,
      "outputs": [
        {
          "output_type": "stream",
          "text": [
            "Requirement already satisfied: python-googlegeocoder in /usr/local/lib/python3.6/dist-packages (0.4.0)\n",
            "Requirement already satisfied: six>=1.4.1 in /usr/local/lib/python3.6/dist-packages (from python-googlegeocoder) (1.11.0)\n",
            "Requirement already satisfied: gmplot in /usr/local/lib/python3.6/dist-packages (1.2.0)\n",
            "Requirement already satisfied: requests in /usr/local/lib/python3.6/dist-packages (from gmplot) (2.18.4)\n",
            "Requirement already satisfied: urllib3<1.23,>=1.21.1 in /usr/local/lib/python3.6/dist-packages (from requests->gmplot) (1.22)\n",
            "Requirement already satisfied: chardet<3.1.0,>=3.0.2 in /usr/local/lib/python3.6/dist-packages (from requests->gmplot) (3.0.4)\n",
            "Requirement already satisfied: certifi>=2017.4.17 in /usr/local/lib/python3.6/dist-packages (from requests->gmplot) (2018.11.29)\n",
            "Requirement already satisfied: idna<2.7,>=2.5 in /usr/local/lib/python3.6/dist-packages (from requests->gmplot) (2.6)\n"
          ],
          "name": "stdout"
        }
      ]
    },
    {
      "metadata": {
        "id": "lBdcA9mn7IMg",
        "colab_type": "code",
        "colab": {}
      },
      "cell_type": "code",
      "source": [
        "import numpy as np\n",
        "import pandas as pd\n",
        "from googlegeocoder import GoogleGeocoder # Package used to access google api to have the geologcal data\n",
        "import matplotlib.pyplot as plt\n",
        "import seaborn as sb # Pcakge used to do statistical visualization\n",
        "import os\n",
        "\n",
        "import gmplot # Use to do the geometric map plotting based on google map"
      ],
      "execution_count": 0,
      "outputs": []
    },
    {
      "metadata": {
        "id": "R2kHVPQX7rV0",
        "colab_type": "text"
      },
      "cell_type": "markdown",
      "source": [
        "**Read the Zillow Data CVS file**"
      ]
    },
    {
      "metadata": {
        "id": "NKI5Fmg-7PNE",
        "colab_type": "code",
        "colab": {
          "base_uri": "https://localhost:8080/",
          "height": 668
        },
        "outputId": "7ef80331-1532-4575-e37a-c938ace02155"
      },
      "cell_type": "code",
      "source": [
        "dat = pd.read_csv(pwd)\n",
        "print(len(dat))\n",
        "dat.head(10)"
      ],
      "execution_count": 24,
      "outputs": [
        {
          "output_type": "stream",
          "text": [
            "4273\n"
          ],
          "name": "stdout"
        },
        {
          "output_type": "execute_result",
          "data": {
            "text/html": [
              "<div>\n",
              "<style scoped>\n",
              "    .dataframe tbody tr th:only-of-type {\n",
              "        vertical-align: middle;\n",
              "    }\n",
              "\n",
              "    .dataframe tbody tr th {\n",
              "        vertical-align: top;\n",
              "    }\n",
              "\n",
              "    .dataframe thead th {\n",
              "        text-align: right;\n",
              "    }\n",
              "</style>\n",
              "<table border=\"1\" class=\"dataframe\">\n",
              "  <thead>\n",
              "    <tr style=\"text-align: right;\">\n",
              "      <th></th>\n",
              "      <th>address</th>\n",
              "      <th>city</th>\n",
              "      <th>state</th>\n",
              "      <th>zip</th>\n",
              "      <th>price</th>\n",
              "      <th>sqft</th>\n",
              "      <th>bedrooms</th>\n",
              "      <th>bathrooms</th>\n",
              "      <th>days_on_zillow</th>\n",
              "      <th>sale_type</th>\n",
              "      <th>url</th>\n",
              "    </tr>\n",
              "  </thead>\n",
              "  <tbody>\n",
              "    <tr>\n",
              "      <th>0</th>\n",
              "      <td>5927 Junction St</td>\n",
              "      <td>LOS ANGELES</td>\n",
              "      <td>CA</td>\n",
              "      <td>90001</td>\n",
              "      <td>435000.0</td>\n",
              "      <td>1222.0</td>\n",
              "      <td>3.0</td>\n",
              "      <td>1.0</td>\n",
              "      <td>1.0</td>\n",
              "      <td>House for sale</td>\n",
              "      <td>http://www.zillow.com/homes/for_sale//homedeta...</td>\n",
              "    </tr>\n",
              "    <tr>\n",
              "      <th>1</th>\n",
              "      <td>8116 Stanford Ave</td>\n",
              "      <td>LOS ANGELES</td>\n",
              "      <td>CA</td>\n",
              "      <td>90001</td>\n",
              "      <td>615000.0</td>\n",
              "      <td>3280.0</td>\n",
              "      <td>5.0</td>\n",
              "      <td>3.0</td>\n",
              "      <td>1.0</td>\n",
              "      <td>Apartment for sale</td>\n",
              "      <td>http://www.zillow.com/homes/for_sale//homedeta...</td>\n",
              "    </tr>\n",
              "    <tr>\n",
              "      <th>2</th>\n",
              "      <td>819 E 75th St</td>\n",
              "      <td>LOS ANGELES</td>\n",
              "      <td>CA</td>\n",
              "      <td>90001</td>\n",
              "      <td>750000.0</td>\n",
              "      <td>1322.0</td>\n",
              "      <td>4.0</td>\n",
              "      <td>4.0</td>\n",
              "      <td>NaN</td>\n",
              "      <td>House for sale</td>\n",
              "      <td>http://www.zillow.com/homes/for_sale//homedeta...</td>\n",
              "    </tr>\n",
              "    <tr>\n",
              "      <th>3</th>\n",
              "      <td>838 E 76th St</td>\n",
              "      <td>LOS ANGELES</td>\n",
              "      <td>CA</td>\n",
              "      <td>90001</td>\n",
              "      <td>440000.0</td>\n",
              "      <td>1192.0</td>\n",
              "      <td>3.0</td>\n",
              "      <td>2.0</td>\n",
              "      <td>2.0</td>\n",
              "      <td>Apartment for sale</td>\n",
              "      <td>http://www.zillow.com/homes/for_sale//homedeta...</td>\n",
              "    </tr>\n",
              "    <tr>\n",
              "      <th>4</th>\n",
              "      <td>636 E 73rd St</td>\n",
              "      <td>LOS ANGELES</td>\n",
              "      <td>CA</td>\n",
              "      <td>90001</td>\n",
              "      <td>778000.0</td>\n",
              "      <td>3488.0</td>\n",
              "      <td>10.0</td>\n",
              "      <td>6.0</td>\n",
              "      <td>4.0</td>\n",
              "      <td>Apartment for sale</td>\n",
              "      <td>http://www.zillow.com/homes/for_sale//homedeta...</td>\n",
              "    </tr>\n",
              "    <tr>\n",
              "      <th>5</th>\n",
              "      <td>8019 Hooper Ave</td>\n",
              "      <td>LOS ANGELES</td>\n",
              "      <td>CA</td>\n",
              "      <td>90001</td>\n",
              "      <td>439000.0</td>\n",
              "      <td>1061.0</td>\n",
              "      <td>4.0</td>\n",
              "      <td>2.0</td>\n",
              "      <td>NaN</td>\n",
              "      <td>Apartment for sale</td>\n",
              "      <td>http://www.zillow.com/homes/for_sale//homedeta...</td>\n",
              "    </tr>\n",
              "    <tr>\n",
              "      <th>6</th>\n",
              "      <td>842 E 85th St</td>\n",
              "      <td>LOS ANGELES</td>\n",
              "      <td>CA</td>\n",
              "      <td>90001</td>\n",
              "      <td>415000.0</td>\n",
              "      <td>1512.0</td>\n",
              "      <td>4.0</td>\n",
              "      <td>2.0</td>\n",
              "      <td>NaN</td>\n",
              "      <td>House for sale</td>\n",
              "      <td>http://www.zillow.com/homes/for_sale//homedeta...</td>\n",
              "    </tr>\n",
              "    <tr>\n",
              "      <th>7</th>\n",
              "      <td>7809 Crockett Blvd</td>\n",
              "      <td>Los Angeles</td>\n",
              "      <td>CA</td>\n",
              "      <td>90001</td>\n",
              "      <td>1399000.0</td>\n",
              "      <td>NaN</td>\n",
              "      <td>10.0</td>\n",
              "      <td>10.0</td>\n",
              "      <td>17.0</td>\n",
              "      <td>House for sale</td>\n",
              "      <td>http://www.zillow.com/homes/for_sale//homedeta...</td>\n",
              "    </tr>\n",
              "    <tr>\n",
              "      <th>8</th>\n",
              "      <td>7512 Mckinley Ave</td>\n",
              "      <td>LOS ANGELES</td>\n",
              "      <td>CA</td>\n",
              "      <td>90001</td>\n",
              "      <td>370000.0</td>\n",
              "      <td>858.0</td>\n",
              "      <td>2.0</td>\n",
              "      <td>2.0</td>\n",
              "      <td>134.0</td>\n",
              "      <td>House for sale</td>\n",
              "      <td>http://www.zillow.com/homes/for_sale//homedeta...</td>\n",
              "    </tr>\n",
              "    <tr>\n",
              "      <th>9</th>\n",
              "      <td>7920 Hooper Ave</td>\n",
              "      <td>LOS ANGELES</td>\n",
              "      <td>CA</td>\n",
              "      <td>90001</td>\n",
              "      <td>459000.0</td>\n",
              "      <td>1550.0</td>\n",
              "      <td>4.0</td>\n",
              "      <td>2.0</td>\n",
              "      <td>1.0</td>\n",
              "      <td>Apartment for sale</td>\n",
              "      <td>http://www.zillow.com/homes/for_sale//homedeta...</td>\n",
              "    </tr>\n",
              "  </tbody>\n",
              "</table>\n",
              "</div>"
            ],
            "text/plain": [
              "              address         city state    zip      price    sqft  bedrooms  \\\n",
              "0    5927 Junction St  LOS ANGELES    CA  90001   435000.0  1222.0       3.0   \n",
              "1   8116 Stanford Ave  LOS ANGELES    CA  90001   615000.0  3280.0       5.0   \n",
              "2       819 E 75th St  LOS ANGELES    CA  90001   750000.0  1322.0       4.0   \n",
              "3       838 E 76th St  LOS ANGELES    CA  90001   440000.0  1192.0       3.0   \n",
              "4       636 E 73rd St  LOS ANGELES    CA  90001   778000.0  3488.0      10.0   \n",
              "5     8019 Hooper Ave  LOS ANGELES    CA  90001   439000.0  1061.0       4.0   \n",
              "6       842 E 85th St  LOS ANGELES    CA  90001   415000.0  1512.0       4.0   \n",
              "7  7809 Crockett Blvd  Los Angeles    CA  90001  1399000.0     NaN      10.0   \n",
              "8   7512 Mckinley Ave  LOS ANGELES    CA  90001   370000.0   858.0       2.0   \n",
              "9     7920 Hooper Ave  LOS ANGELES    CA  90001   459000.0  1550.0       4.0   \n",
              "\n",
              "   bathrooms  days_on_zillow           sale_type  \\\n",
              "0        1.0             1.0      House for sale   \n",
              "1        3.0             1.0  Apartment for sale   \n",
              "2        4.0             NaN      House for sale   \n",
              "3        2.0             2.0  Apartment for sale   \n",
              "4        6.0             4.0  Apartment for sale   \n",
              "5        2.0             NaN  Apartment for sale   \n",
              "6        2.0             NaN      House for sale   \n",
              "7       10.0            17.0      House for sale   \n",
              "8        2.0           134.0      House for sale   \n",
              "9        2.0             1.0  Apartment for sale   \n",
              "\n",
              "                                                 url  \n",
              "0  http://www.zillow.com/homes/for_sale//homedeta...  \n",
              "1  http://www.zillow.com/homes/for_sale//homedeta...  \n",
              "2  http://www.zillow.com/homes/for_sale//homedeta...  \n",
              "3  http://www.zillow.com/homes/for_sale//homedeta...  \n",
              "4  http://www.zillow.com/homes/for_sale//homedeta...  \n",
              "5  http://www.zillow.com/homes/for_sale//homedeta...  \n",
              "6  http://www.zillow.com/homes/for_sale//homedeta...  \n",
              "7  http://www.zillow.com/homes/for_sale//homedeta...  \n",
              "8  http://www.zillow.com/homes/for_sale//homedeta...  \n",
              "9  http://www.zillow.com/homes/for_sale//homedeta...  "
            ]
          },
          "metadata": {
            "tags": []
          },
          "execution_count": 24
        }
      ]
    },
    {
      "metadata": {
        "id": "Ijgp4R5A7xsg",
        "colab_type": "text"
      },
      "cell_type": "markdown",
      "source": [
        "**Missing Values Check**"
      ]
    },
    {
      "metadata": {
        "id": "l73u9-wx7ni9",
        "colab_type": "code",
        "colab": {
          "base_uri": "https://localhost:8080/",
          "height": 221
        },
        "outputId": "311c65b4-97a9-4016-ed92-3cb129748924"
      },
      "cell_type": "code",
      "source": [
        "print('total rows contain NaN: ',dat.isnull().T.any().T.sum())\n",
        "col_names = list(dat.columns.values)\n",
        "for name in col_names:\n",
        "  print('total number of NaN in the column ',name,' : ',dat[name].isnull().sum())"
      ],
      "execution_count": 21,
      "outputs": [
        {
          "output_type": "stream",
          "text": [
            "total rows contain NaN:  2525\n",
            "total number of NaN in the column  address  :  0\n",
            "total number of NaN in the column  city  :  0\n",
            "total number of NaN in the column  state  :  0\n",
            "total number of NaN in the column  zip  :  0\n",
            "total number of NaN in the column  price  :  897\n",
            "total number of NaN in the column  sqft  :  110\n",
            "total number of NaN in the column  bedrooms  :  217\n",
            "total number of NaN in the column  bathrooms  :  336\n",
            "total number of NaN in the column  days_on_zillow  :  1369\n",
            "total number of NaN in the column  sale_type  :  0\n",
            "total number of NaN in the column  url  :  0\n"
          ],
          "name": "stdout"
        }
      ]
    },
    {
      "metadata": {
        "id": "4BKEGeTIHKqj",
        "colab_type": "text"
      },
      "cell_type": "markdown",
      "source": [
        "**Housing for sales in each Zipcode Area**\n",
        "\n",
        "We would plot out the number of housing sale posts by the zipcode through a barplot. It would give us a biasic idea about how the housing  for sale distributed by the areas."
      ]
    },
    {
      "metadata": {
        "id": "b9-6YgkzHSOU",
        "colab_type": "code",
        "colab": {
          "base_uri": "https://localhost:8080/",
          "height": 367
        },
        "outputId": "5cb8ba34-a097-4aae-9164-cbf9ef1b2263"
      },
      "cell_type": "code",
      "source": [
        "color = sb.color_palette() # Set up the color choices\n",
        "\n",
        "x=dat['zip'].value_counts() # Count the values for each zipcode\n",
        "x=x.sort_values(ascending=False) # Sort the counts descendingly\n",
        "x=x.iloc[0:20] # Choose the first 20 zipcodes to visualize\n",
        "plt.figure(figsize=(16,4))\n",
        "ax = sb.barplot(x.index,x.values,alpha=0.8,color=color[3],order=x.index)\n",
        "plt.title(\"How Many Housing Sale Posted in this Area?\")\n",
        "locs, labels = plt.xticks()\n",
        "plt.setp(labels, rotation=45)\n",
        "plt.ylabel('# Housing Sale Post', fontsize=12)\n",
        "plt.xlabel('Zipcode', fontsize=12)\n",
        "\n",
        "#adding the text labels\n",
        "rects = ax.patches\n",
        "labels = x.values\n",
        "for rect, label in zip(rects, labels):\n",
        "    height = rect.get_height()\n",
        "    ax.text(rect.get_x() + rect.get_width()/2, height + 5, label, ha='center', va='bottom')\n",
        "\n",
        "plt.show()"
      ],
      "execution_count": 7,
      "outputs": [
        {
          "output_type": "stream",
          "text": [
            "/usr/local/lib/python3.6/dist-packages/seaborn/categorical.py:1428: FutureWarning: remove_na is deprecated and is a private function. Do not use.\n",
            "  stat_data = remove_na(group_data)\n"
          ],
          "name": "stderr"
        },
        {
          "output_type": "display_data",
          "data": {
            "image/png": "[encoded data removed]",
            "text/plain": [
              "<Figure size 1152x288 with 1 Axes>"
            ]
          },
          "metadata": {
            "tags": []
          }
        }
      ]
    },
    {
      "metadata": {
        "id": "StyBWXgGQRN5",
        "colab_type": "text"
      },
      "cell_type": "markdown",
      "source": [
        "**Housing Sale Posting Geometric Distribution**\n",
        "\n",
        "We would access the google map API to transfer all the address to be the location coordinates. And then we could visualize all the posts directly on a map.\n",
        "\n",
        "You only need to run the codes below for one time and please save the result into a csv file.\n",
        "\n",
        "There might be some address that does not have a proper coordinates found from google map. These coordinates have been set to be (0,0)."
      ]
    },
    {
      "metadata": {
        "id": "jXmc-xOpQoxb",
        "colab_type": "code",
        "colab": {
          "base_uri": "https://localhost:8080/",
          "height": 765
        },
        "outputId": "959e593e-3efc-4f60-8408-6c2221c67049"
      },
      "cell_type": "code",
      "source": [
        "geocoder = GoogleGeocoder(\"<Your own API Key>\")\n",
        "Address = dat['address'].values\n",
        "loc_cord = []\n",
        "for t,ads in enumerate(Address):\n",
        "  try:\n",
        "    search = geocoder.get(ads)\n",
        "    loc_cord.append([search[0].geometry.location.lat,search[0].geometry.location.lng])\n",
        "  except ValueError:\n",
        "    loc_cord.append([0,0])\n",
        "    continue\n",
        "  if t%100 == 0:\n",
        "    print('No.%d coordinates finished' %t)\n",
        "    \n",
        "print(len(loc_cord))"
      ],
      "execution_count": 12,
      "outputs": [
        {
          "output_type": "stream",
          "text": [
            "No.0 coordinates finished\n",
            "No.100 coordinates finished\n",
            "No.200 coordinates finished\n",
            "No.300 coordinates finished\n",
            "No.400 coordinates finished\n",
            "No.500 coordinates finished\n",
            "No.600 coordinates finished\n",
            "No.700 coordinates finished\n",
            "No.800 coordinates finished\n",
            "No.900 coordinates finished\n",
            "No.1000 coordinates finished\n",
            "No.1100 coordinates finished\n",
            "No.1200 coordinates finished\n",
            "No.1300 coordinates finished\n",
            "No.1400 coordinates finished\n",
            "No.1500 coordinates finished\n",
            "No.1600 coordinates finished\n",
            "No.1700 coordinates finished\n",
            "No.1800 coordinates finished\n",
            "No.1900 coordinates finished\n",
            "No.2000 coordinates finished\n",
            "No.2100 coordinates finished\n",
            "No.2200 coordinates finished\n",
            "No.2300 coordinates finished\n",
            "No.2400 coordinates finished\n",
            "No.2500 coordinates finished\n",
            "No.2600 coordinates finished\n",
            "No.2700 coordinates finished\n",
            "No.2800 coordinates finished\n",
            "No.2900 coordinates finished\n",
            "No.3000 coordinates finished\n",
            "No.3100 coordinates finished\n",
            "No.3200 coordinates finished\n",
            "No.3300 coordinates finished\n",
            "No.3400 coordinates finished\n",
            "No.3500 coordinates finished\n",
            "No.3600 coordinates finished\n",
            "No.3700 coordinates finished\n",
            "No.3800 coordinates finished\n",
            "No.3900 coordinates finished\n",
            "No.4000 coordinates finished\n",
            "No.4100 coordinates finished\n",
            "No.4200 coordinates finished\n",
            "4273\n"
          ],
          "name": "stdout"
        }
      ]
    },
    {
      "metadata": {
        "id": "NqbGsW3nDQIL",
        "colab_type": "text"
      },
      "cell_type": "markdown",
      "source": [
        "Save the coordinates to a csv file"
      ]
    },
    {
      "metadata": {
        "id": "fAFDBhYDDqFP",
        "colab_type": "code",
        "colab": {}
      },
      "cell_type": "code",
      "source": [
        "lat = [a[0] for a in loc_cord]\n",
        "lng = [a[1] for a in loc_cord]\n",
        "\n",
        "coord_dat_dic = {'LAT':lat,'LNG':lng}\n",
        "coord_dat = pd.DataFrame(coord_dat_dic)\n",
        "coord_dat.to_csv(os.path.join(base,'coord.csv'))"
      ],
      "execution_count": 0,
      "outputs": []
    },
    {
      "metadata": {
        "id": "pR_fV-SrKL-W",
        "colab_type": "text"
      },
      "cell_type": "markdown",
      "source": [
        "Read the coordinates file"
      ]
    },
    {
      "metadata": {
        "id": "APLIKmlMKDE0",
        "colab_type": "code",
        "colab": {
          "base_uri": "https://localhost:8080/",
          "height": 359
        },
        "outputId": "a0b5abb2-7c6d-4059-acb9-72ac8aaf0f29"
      },
      "cell_type": "code",
      "source": [
        "coord_dat = pd.read_csv(os.path.join(base,'coord.csv'))\n",
        "coord_dat.head(10)"
      ],
      "execution_count": 17,
      "outputs": [
        {
          "output_type": "execute_result",
          "data": {
            "text/html": [
              "<div>\n",
              "<style scoped>\n",
              "    .dataframe tbody tr th:only-of-type {\n",
              "        vertical-align: middle;\n",
              "    }\n",
              "\n",
              "    .dataframe tbody tr th {\n",
              "        vertical-align: top;\n",
              "    }\n",
              "\n",
              "    .dataframe thead th {\n",
              "        text-align: right;\n",
              "    }\n",
              "</style>\n",
              "<table border=\"1\" class=\"dataframe\">\n",
              "  <thead>\n",
              "    <tr style=\"text-align: right;\">\n",
              "      <th></th>\n",
              "      <th>Unnamed: 0</th>\n",
              "      <th>LAT</th>\n",
              "      <th>LNG</th>\n",
              "    </tr>\n",
              "  </thead>\n",
              "  <tbody>\n",
              "    <tr>\n",
              "      <th>0</th>\n",
              "      <td>0</td>\n",
              "      <td>33.986130</td>\n",
              "      <td>-118.242726</td>\n",
              "    </tr>\n",
              "    <tr>\n",
              "      <th>1</th>\n",
              "      <td>1</td>\n",
              "      <td>33.964936</td>\n",
              "      <td>-118.262772</td>\n",
              "    </tr>\n",
              "    <tr>\n",
              "      <th>2</th>\n",
              "      <td>2</td>\n",
              "      <td>33.972437</td>\n",
              "      <td>-118.260113</td>\n",
              "    </tr>\n",
              "    <tr>\n",
              "      <th>3</th>\n",
              "      <td>3</td>\n",
              "      <td>33.970926</td>\n",
              "      <td>-118.259416</td>\n",
              "    </tr>\n",
              "    <tr>\n",
              "      <th>4</th>\n",
              "      <td>4</td>\n",
              "      <td>33.973677</td>\n",
              "      <td>-118.263670</td>\n",
              "    </tr>\n",
              "    <tr>\n",
              "      <th>5</th>\n",
              "      <td>5</td>\n",
              "      <td>33.965978</td>\n",
              "      <td>-118.252228</td>\n",
              "    </tr>\n",
              "    <tr>\n",
              "      <th>6</th>\n",
              "      <td>6</td>\n",
              "      <td>33.960873</td>\n",
              "      <td>-118.259218</td>\n",
              "    </tr>\n",
              "    <tr>\n",
              "      <th>7</th>\n",
              "      <td>7</td>\n",
              "      <td>33.968307</td>\n",
              "      <td>-118.237164</td>\n",
              "    </tr>\n",
              "    <tr>\n",
              "      <th>8</th>\n",
              "      <td>8</td>\n",
              "      <td>33.971553</td>\n",
              "      <td>-118.260610</td>\n",
              "    </tr>\n",
              "    <tr>\n",
              "      <th>9</th>\n",
              "      <td>9</td>\n",
              "      <td>33.966804</td>\n",
              "      <td>-118.251703</td>\n",
              "    </tr>\n",
              "  </tbody>\n",
              "</table>\n",
              "</div>"
            ],
            "text/plain": [
              "   Unnamed: 0        LAT         LNG\n",
              "0           0  33.986130 -118.242726\n",
              "1           1  33.964936 -118.262772\n",
              "2           2  33.972437 -118.260113\n",
              "3           3  33.970926 -118.259416\n",
              "4           4  33.973677 -118.263670\n",
              "5           5  33.965978 -118.252228\n",
              "6           6  33.960873 -118.259218\n",
              "7           7  33.968307 -118.237164\n",
              "8           8  33.971553 -118.260610\n",
              "9           9  33.966804 -118.251703"
            ]
          },
          "metadata": {
            "tags": []
          },
          "execution_count": 17
        }
      ]
    },
    {
      "metadata": {
        "id": "h760k3XRKUFL",
        "colab_type": "text"
      },
      "cell_type": "markdown",
      "source": [
        "Detect the addresses not have proper coordinates"
      ]
    },
    {
      "metadata": {
        "id": "dM8GNG8PKUQp",
        "colab_type": "code",
        "colab": {}
      },
      "cell_type": "code",
      "source": [
        "not_proper_idx = coord_dat[coord_dat['LAT']==0].index\n",
        "coord_dat = coord_dat.drop(not_proper_idx)\n",
        "dat = dat.drop(not_proper_idx)"
      ],
      "execution_count": 0,
      "outputs": []
    },
    {
      "metadata": {
        "id": "goeamMIqNA-y",
        "colab_type": "text"
      },
      "cell_type": "markdown",
      "source": [
        "Basic View of coordinates of all the addresses"
      ]
    },
    {
      "metadata": {
        "id": "HeE7VXZUNAAy",
        "colab_type": "code",
        "colab": {
          "base_uri": "https://localhost:8080/",
          "height": 349
        },
        "outputId": "08df973f-76e9-4b74-fc4d-eb769fa40812"
      },
      "cell_type": "code",
      "source": [
        "plt.rcParams[\"axes.grid\"] = False # Turn of the grid lines\n",
        "\n",
        "fig = plt.figure(figsize = (10,5))\n",
        "ax = fig.add_subplot(1,1,1)\n",
        "coord_dat.plot(kind='scatter', x='LNG', y='LAT',\\\n",
        "                        color='yellow',s=10, alpha=.6,subplots=True, ax=ax)\n",
        "ax.set_title(\"Greater Los Angeles Area\")\n",
        "ax.set_facecolor('black')"
      ],
      "execution_count": 68,
      "outputs": [
        {
          "output_type": "display_data",
          "data": {
            "image/png": "[encoded data removed]",
            "text/plain": [
              "<Figure size 720x360 with 1 Axes>"
            ]
          },
          "metadata": {
            "tags": []
          }
        }
      ]
    },
    {
      "metadata": {
        "id": "TBV_AyHQXEul",
        "colab_type": "code",
        "colab": {}
      },
      "cell_type": "code",
      "source": [
        "lat = coord_dat['LAT']\n",
        "lng = coord_dat['LNG']\n",
        "gmap = gmplot.GoogleMapPlotter(30.3164945,78.03219179999999,13) \n",
        "gmap.draw(os.path.join(base,'map.html'))"
      ],
      "execution_count": 0,
      "outputs": []
    }
  ]
}